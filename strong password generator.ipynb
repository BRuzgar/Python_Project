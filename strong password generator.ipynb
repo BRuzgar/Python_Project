{
 "cells": [
  {
   "cell_type": "markdown",
   "metadata": {},
   "source": [
    "** Strong Password Generator**\n",
    "\n",
    "* Write a Python program that takes user input to generate a complex password. \n",
    "* The program should prompt the user to specify the types of characters they want to include in the password, such as vowels, consonants, numbers, punctuation, and non-numeric characters. \n",
    "* Generate a random password of 8, 9, 10, 11 or 12 characters, depending on the user's input. \n",
    "* Please make sure that the generated password meets the criteria specified by the user."
   ]
  },
  {
   "cell_type": "code",
   "execution_count": 2,
   "metadata": {},
   "outputs": [
    {
     "name": "stdout",
     "output_type": "stream",
     "text": [
      "Welcome to a complex password generation programme!\n",
      "Generated password: iW0\">jiW\n"
     ]
    }
   ],
   "source": [
    "import random\n",
    "\n",
    "print(\"Welcome to a complex password generation programme!\")\n",
    "\n",
    "vowels = input(\"Do you want to include vowels (e/h): \").strip().lower() == \"e\"\n",
    "consonants = input(\"Include consonants (e/h): \").strip().lower() == \"e\"\n",
    "digits = input(\"Include digits (e/h): \").strip().lower() == \"e\"\n",
    "punctuations = input(\"Include punctuation (e/h): \").strip().lower() == \"e\"\n",
    "non_numeric = input(\"Include non-numeric characters (e/h): \").strip().lower() == \"e\"\n",
    "\n",
    "\n",
    "length = input(\"Select the length of the password (8, 9, 10, 11, 12): \")\n",
    "\n",
    "pool = \"\"\n",
    "\n",
    "if vowels:\n",
    "    pool += \"aeiouAEIOU\"\n",
    "    \n",
    "if consonants:\n",
    "    pool += \"bcdfghjklmnpqrstvwxyzBCDFGHJKLMNPQRSTVWXYZ\"\n",
    "    \n",
    "if digits:\n",
    "    pool += \"0123456789\"\n",
    "    \n",
    "if punctuations:\n",
    "    pool += \".,:;!()?-'\\\"\"\n",
    "    \n",
    "if non_numeric:\n",
    "    pool += \"#$%&*+-/<=>@[^_`{|}~\"\n",
    "    \n",
    "if not pool:\n",
    "    print(\"No character type selected. Please select at least one character type.\")\n",
    "    \n",
    "password = \"\"\n",
    "if vowels:\n",
    "    password += random.choice(\"aeiouAEIOU\")\n",
    "if consonants:\n",
    "    password += random.choice(\"bcdfghjklmnpqrstvwxyzBCDFGHJKLMNPQRSTVWXYZ\")\n",
    "if digits:\n",
    "    password += random.choice(\"0123456789\")\n",
    "if punctuations:\n",
    "    password += random.choice(\".,:;!()?-'\\\"\")\n",
    "if non_numeric:\n",
    "    password += random.choice(\"#$%&*+-/<=>@[^_`{|}~\")\n",
    "    \n",
    "password += random.choice(pool)\n",
    "\n",
    "if length == \"8\":\n",
    "    a = 8 - len(password)\n",
    "    password += password[:a]\n",
    "elif length == \"9\":\n",
    "    a = 9 - len(password)\n",
    "    password += password[:a]\n",
    "elif length == \"10\":\n",
    "    a = 10 - len(password)\n",
    "    password += password[:a]\n",
    "elif length == \"11\":\n",
    "    a = 11 - len(password)\n",
    "    password += password[:a]\n",
    "elif length == \"12\":\n",
    "    a = 12 - len(password)\n",
    "    password += password[:a]\n",
    "\n",
    "print(f\"Generated password: {password}\")"
   ]
  }
 ],
 "metadata": {
  "kernelspec": {
   "display_name": "base",
   "language": "python",
   "name": "python3"
  },
  "language_info": {
   "codemirror_mode": {
    "name": "ipython",
    "version": 3
   },
   "file_extension": ".py",
   "mimetype": "text/x-python",
   "name": "python",
   "nbconvert_exporter": "python",
   "pygments_lexer": "ipython3",
   "version": "3.12.4"
  }
 },
 "nbformat": 4,
 "nbformat_minor": 2
}
