{
 "cells": [
  {
   "cell_type": "markdown",
   "metadata": {},
   "source": [
    "** Email verification\n",
    "\n",
    "Problem reporting: Write a programme that checks the correctness of an email address entered by a user.\n",
    "\n",
    "Task: Obtain an email address from the user. Then check that this email address is a valid address. A valid email address usually consists of a user name, an \"@\" sign, a domain name and a top level domain name. For example, \"ornek@ornek.com\". Your programme should inform the user if the email address is valid.\n",
    "\n",
    "Bonus: In addition to the email address, try to find and list other email addresses in the text that the user enters.\n"
   ]
  },
  {
   "cell_type": "code",
   "execution_count": 3,
   "metadata": {},
   "outputs": [
    {
     "name": "stdout",
     "output_type": "stream",
     "text": [
      "The email address you entered is valid\n"
     ]
    }
   ],
   "source": [
    "email = input(\"Please enter your email address: \")\n",
    "\n",
    "if \"@\" in email:\n",
    "    print(\"The email address you entered is valid\")\n",
    "    \n",
    "else:\n",
    "    print(\"The email address you have entered is not valid.\")"
   ]
  }
 ],
 "metadata": {
  "kernelspec": {
   "display_name": "base",
   "language": "python",
   "name": "python3"
  },
  "language_info": {
   "codemirror_mode": {
    "name": "ipython",
    "version": 3
   },
   "file_extension": ".py",
   "mimetype": "text/x-python",
   "name": "python",
   "nbconvert_exporter": "python",
   "pygments_lexer": "ipython3",
   "version": "3.12.4"
  }
 },
 "nbformat": 4,
 "nbformat_minor": 2
}
