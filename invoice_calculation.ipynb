{
 "cells": [
  {
   "cell_type": "markdown",
   "metadata": {},
   "source": [
    "** Invoice Calculator:**\n",
    "\n",
    "Problem Statement: A restaurant operator wants a programme to calculate the costs of services provided to customers.\n",
    "\n",
    "Task: The programme calculates the total charge by taking the cost of a meal or service and the tip given by the customer.\n",
    "\n",
    "Solution: Write a Python program that takes information from the user, such as the cost of the meal and the percentage of the tip, and calculates the total charge."
   ]
  },
  {
   "cell_type": "code",
   "execution_count": null,
   "metadata": {},
   "outputs": [],
   "source": [
    "food_price = float(input(\"Enter the cost of the meal: \"))\n",
    "tip_percantage = float(input(\"Enter the tip percentage (%): \"))\n",
    "\n",
    "tip_amount = food_price * (tip_percantage / 100)\n",
    "\n",
    "totally_price = food_price + tip_amount\n",
    "\n",
    "print(f\"Total fee (including gratuity): {totally_price}\")"
   ]
  }
 ],
 "metadata": {
  "language_info": {
   "name": "python"
  }
 },
 "nbformat": 4,
 "nbformat_minor": 2
}
