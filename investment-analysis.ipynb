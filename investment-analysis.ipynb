{
 "cells": [
  {
   "cell_type": "markdown",
   "metadata": {},
   "source": [
    "**Investment Return Analysis:**\n",
    "\n",
    "Problem Statement: A financial advisor wants a tool to analyse the return on his clients' investments.\n",
    "\n",
    "Task: The program should calculate and analyse the return on investments made by the user.\n",
    "\n",
    "Solution: Write a programme in Python that calculates the return on the user's investments."
   ]
  },
  {
   "cell_type": "code",
   "execution_count": 2,
   "metadata": {},
   "outputs": [
    {
     "name": "stdout",
     "output_type": "stream",
     "text": [
      "\n",
      "Return on investment: 1150.00000%\n",
      "\n",
      "Return on investment: 1150.0%\n"
     ]
    }
   ],
   "source": [
    "investment_value = float(input(\"Enter the initial value of the investment: \"))\n",
    "investment_last_value = float(input(\"Enter the final value of the investment: \"))\n",
    "\n",
    "getiri = ((investment_last_value - investment_value) / investment_value) * 100\n",
    "\n",
    "print(\"\\nReturn on investment: {:.5f}%\".format(getiri))\n",
    "print(f\"\\nReturn on investment: {getiri}%\")"
   ]
  }
 ],
 "metadata": {
  "kernelspec": {
   "display_name": "Python 3",
   "language": "python",
   "name": "python3"
  },
  "language_info": {
   "codemirror_mode": {
    "name": "ipython",
    "version": 3
   },
   "file_extension": ".py",
   "mimetype": "text/x-python",
   "name": "python",
   "nbconvert_exporter": "python",
   "pygments_lexer": "ipython3",
   "version": "3.12.4"
  }
 },
 "nbformat": 4,
 "nbformat_minor": 2
}
