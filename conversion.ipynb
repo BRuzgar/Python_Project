{
 "cells": [
  {
   "cell_type": "markdown",
   "metadata": {},
   "source": [
    "** Character Sequence Conversion**\n",
    "\n",
    "Problem Statement: Write a programme that converts a string of characters into different formats. The user must select an input string and a conversion type and see the converted string.\n",
    "\n",
    "Task: Convert the user-supplied input character string according to the user's selected conversion type. Conversion types can include uppercase, lowercase, capitalise, and invert.\n",
    "\n",
    "Bonus: Add options to convert the user-supplied character string into more complex formats, such as reversing the text or changing the letters slightly."
   ]
  },
  {
   "cell_type": "code",
   "execution_count": 2,
   "metadata": {},
   "outputs": [
    {
     "name": "stdout",
     "output_type": "stream",
     "text": [
      "Just do it. is JUST DO IT. transformed according to your chosen transformation type b.\n"
     ]
    }
   ],
   "source": [
    "Entry = input(\"Please enter a string of characters:\")\n",
    "transformation_turn = input(\"Please select the conversion type (b: upper case, k: lower case, t: reversal): \")\n",
    "\n",
    "if transformation_turn == \"b\":\n",
    "    alternating_entry = Entry.upper()\n",
    "elif transformation_turn == \"k\":\n",
    "    alternating_entry = Entry.lower()\n",
    "elif transformation_turn == \"t\":\n",
    "    alternating_entry = Entry[::-1]\n",
    "else:\n",
    "    alternating_entry = \"Invalid conversion type!\"\n",
    "    \n",
    "print(f\"{Entry} is {alternating_entry} transformed according to your chosen transformation type {transformation_turn}.\")"
   ]
  }
 ],
 "metadata": {
  "kernelspec": {
   "display_name": "Python 3",
   "language": "python",
   "name": "python3"
  },
  "language_info": {
   "codemirror_mode": {
    "name": "ipython",
    "version": 3
   },
   "file_extension": ".py",
   "mimetype": "text/x-python",
   "name": "python",
   "nbconvert_exporter": "python",
   "pygments_lexer": "ipython3",
   "version": "3.12.4"
  }
 },
 "nbformat": 4,
 "nbformat_minor": 2
}
