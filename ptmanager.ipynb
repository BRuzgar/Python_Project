{
 "cells": [
  {
   "cell_type": "markdown",
   "metadata": {},
   "source": [
    "**Personal Task Manager:** \n",
    "An application that allows users to create, add, delete and update their personal task lists. Users can add tasks to the list, remove them from the list when they are completed, or change the priority order of tasks."
   ]
  },
  {
   "cell_type": "code",
   "execution_count": 2,
   "metadata": {},
   "outputs": [
    {
     "name": "stdout",
     "output_type": "stream",
     "text": [
      " Tasks: \n",
      "['run', 'walk', 'look']\n",
      "\n",
      "The strikes after changing the priority: \n",
      "['walk', 'look', 'run']\n",
      " \n",
      " tasks after completing: b:\n",
      "['walk', 'look', 'run']\n"
     ]
    }
   ],
   "source": [
    "tasks = []\n",
    "\n",
    "tasks.append(input(\"Please enter\"))\n",
    "tasks.append(input(\"Please enter\"))\n",
    "tasks.append(input(\"Please enter\"))\n",
    "\n",
    "# Listing tasks\n",
    "\n",
    "if tasks:\n",
    "    print(\" Tasks: \")\n",
    "    print(tasks)\n",
    "\n",
    "else:\n",
    " print(\"The list is empty.\")\n",
    "\n",
    "# Change the priority order of tasks\n",
    "\n",
    "if len(tasks) >=3:\n",
    "   moving_tasks = tasks.pop(0)\n",
    "   tasks.insert(2, moving_tasks)\n",
    "               \n",
    "# List tasks\n",
    "if tasks:\n",
    " print(\"\\nThe strikes after changing the priority: \")\n",
    " print(tasks)\n",
    "else:\n",
    " print(\"List empty\")\n",
    "\n",
    " a=input(\"Enter the number of the task you will complete (such as 1,2,3)\")\n",
    " b = tasks [int(a)-1]\n",
    " tasks.remove(b)\n",
    " print(f\"\\n {b} complete!\")\n",
    "if tasks:\n",
    " print(\" \\n tasks after completing: b:\")\n",
    " print(tasks)\n",
    "else: \n",
    " print(\"List empty\")"
   ]
  }
 ],
 "metadata": {
  "kernelspec": {
   "display_name": "Python 3",
   "language": "python",
   "name": "python3"
  },
  "language_info": {
   "codemirror_mode": {
    "name": "ipython",
    "version": 3
   },
   "file_extension": ".py",
   "mimetype": "text/x-python",
   "name": "python",
   "nbconvert_exporter": "python",
   "pygments_lexer": "ipython3",
   "version": "3.12.4"
  }
 },
 "nbformat": 4,
 "nbformat_minor": 2
}
