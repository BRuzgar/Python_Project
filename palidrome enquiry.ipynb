{
 "cells": [
  {
   "cell_type": "markdown",
   "metadata": {},
   "source": [
    "** Palindrome Interrogator**\n",
    "\n",
    "Problem Statement: Create a palindrome queryer application. The user will input a word or phrase and should have the application check if this input is a palindrome.\n",
    "\n",
    "Task: Take the user's input and have the application determine if it is a palindrome. A palindrome is a word or phrase that is the same when read from left to right or right to left.\n",
    "\n",
    "Bonus: Provide the user with an interface that visualises the process of determining whether the input is a palindrome, for example by displaying an inverted version of the input.\n",
    "\n"
   ]
  },
  {
   "cell_type": "code",
   "execution_count": 4,
   "metadata": {},
   "outputs": [
    {
     "name": "stdout",
     "output_type": "stream",
     "text": [
      "did did\n",
      "'did' expression is a palindrome.\n"
     ]
    }
   ],
   "source": [
    "Entrance = input(\"Please enter a word or phrase: \")\n",
    "clean_entry = Entrance.lower().replace(\" \", \"\")\n",
    "\n",
    "reverse_entry = Entrance[::-1]\n",
    "\n",
    "print(clean_entry, reverse_entry)\n",
    "if clean_entry == reverse_entry:\n",
    "    print(f\"'{Entrance}' expression is a palindrome.\")\n",
    "else:\n",
    "    print(f\"'{Entrance}' the expression is not a palindrome.\")"
   ]
  }
 ],
 "metadata": {
  "kernelspec": {
   "display_name": "Python 3",
   "language": "python",
   "name": "python3"
  },
  "language_info": {
   "codemirror_mode": {
    "name": "ipython",
    "version": 3
   },
   "file_extension": ".py",
   "mimetype": "text/x-python",
   "name": "python",
   "nbconvert_exporter": "python",
   "pygments_lexer": "ipython3",
   "version": "3.12.4"
  }
 },
 "nbformat": 4,
 "nbformat_minor": 2
}
